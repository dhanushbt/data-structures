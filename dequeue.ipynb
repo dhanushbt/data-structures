{
  "nbformat": 4,
  "nbformat_minor": 0,
  "metadata": {
    "colab": {
      "name": "dequeue.ipynb",
      "provenance": []
    },
    "kernelspec": {
      "name": "python3",
      "display_name": "Python 3"
    },
    "language_info": {
      "name": "python"
    }
  },
  "cells": [
    {
      "cell_type": "code",
      "execution_count": 1,
      "metadata": {
        "colab": {
          "base_uri": "https://localhost:8080/"
        },
        "id": "2xUdsdS4Lzow",
        "outputId": "f69b0874-f3d8-4ce4-f024-152d0da279fa"
      },
      "outputs": [
        {
          "output_type": "stream",
          "name": "stdout",
          "text": [
            "True\n",
            "4\n",
            "False\n",
            "11\n",
            "10\n",
            "[55, 7, 8, 5, 45]\n"
          ]
        }
      ],
      "source": [
        "# Deque implementaion in python\n",
        "\n",
        "class Deque:\n",
        "    def __init__(self):\n",
        "        self.items = []\n",
        "\n",
        "    def isEmpty(self):\n",
        "        return self.items == []\n",
        "\n",
        "    def addRear(self, item):\n",
        "        self.items.append(item)\n",
        "\n",
        "    def addFront(self, item):\n",
        "        self.items.insert(0, item)\n",
        "\n",
        "    def removeFront(self):\n",
        "        return self.items.pop(0)\n",
        "\n",
        "    def removeRear(self):\n",
        "        return self.items.pop()\n",
        "\n",
        "    def size(self):\n",
        "        return len(self.items)\n",
        "\n",
        "\n",
        "d = Deque()\n",
        "print(d.isEmpty())\n",
        "d.addRear(8)\n",
        "d.addRear(5)\n",
        "d.addFront(7)\n",
        "d.addFront(10)\n",
        "print(d.size())\n",
        "print(d.isEmpty())\n",
        "d.addRear(11)\n",
        "print(d.removeRear())\n",
        "print(d.removeFront())\n",
        "d.addFront(55)\n",
        "d.addRear(45)\n",
        "print(d.items)"
      ]
    }
  ]
}